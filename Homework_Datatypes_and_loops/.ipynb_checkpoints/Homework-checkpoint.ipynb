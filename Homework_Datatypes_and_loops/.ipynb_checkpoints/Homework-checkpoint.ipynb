{
 "cells": [
  {
   "cell_type": "code",
   "execution_count": 38,
   "metadata": {},
   "outputs": [
    {
     "name": "stdout",
     "output_type": "stream",
     "text": [
      "n\n"
     ]
    }
   ],
   "source": [
    "word = 'sadness'\n",
    "if len(word) % 2 == 0:\n",
    "    p = len(word) // 2  \n",
    "    print (word[p-1 : p+1])\n",
    "else : \n",
    "    p = len(word) // 2\n",
    "    print(word[p])\n",
    "    "
   ]
  },
  {
   "cell_type": "code",
   "execution_count": 39,
   "metadata": {},
   "outputs": [
    {
     "name": "stdout",
     "output_type": "stream",
     "text": [
      "Введите число: 2\n",
      "2\n",
      "Введите число: 3\n",
      "3\n",
      "Введите число: 4\n",
      "4\n",
      "Введите число: 0\n",
      "Результат:  9\n"
     ]
    }
   ],
   "source": [
    "user_input = int(input('Введите число: '))\n",
    "x = 0\n",
    "\n",
    "while user_input != 0:\n",
    "    print(user_input)\n",
    "    x = x + user_input\n",
    "    user_input = int(input('Введите число: '))\n",
    "    \n",
    "print('Результат: ',x)"
   ]
  },
  {
   "cell_type": "code",
   "execution_count": 40,
   "metadata": {},
   "outputs": [
    {
     "name": "stdout",
     "output_type": "stream",
     "text": [
      "Идеальные пары:  \n",
      "\n",
      "Alex и Emma\n",
      "Arthur и Kate\n",
      "John и Kira\n",
      "Peter и Liza\n",
      "Richard и Trisha\n"
     ]
    }
   ],
   "source": [
    "boys = ['Peter', 'Alex', 'John', 'Arthur', 'Richard']\n",
    "girls = ['Kate', 'Liza', 'Kira', 'Emma', 'Trisha']\n",
    "ideal_pairs = zip(sorted(boys),sorted(girls))\n",
    "if len(boys) == len(girls):\n",
    "    print('Идеальные пары: ','\\n')\n",
    "    for a in list(ideal_pairs):\n",
    "        print(a[0],'и',a[1])\n",
    "else: print('Внимание, кто-то может остаться без пары!')"
   ]
  },
  {
   "cell_type": "code",
   "execution_count": 42,
   "metadata": {
    "scrolled": true
   },
   "outputs": [
    {
     "name": "stdout",
     "output_type": "stream",
     "text": [
      "Результат:  \n",
      "\n",
      "Средняя температура в странах: \n",
      "Thailand : 23.85 C\n",
      "Germany : 13.8 C\n",
      "Russia : 3.71 C\n",
      "Poland : 11.99 C\n"
     ]
    }
   ],
   "source": [
    "countries_temperature = [\n",
    "['Thailand', [75.2, 77, 78.8, 73.4, 68, 75.2, 77]],\n",
    "['Germany', [57.2, 55.4, 59, 59, 53.6]],\n",
    "['Russia', [35.6, 37.4, 39.2, 41, 42.8, 39.2, 35.6]],\n",
    "['Poland', [50, 50, 53.6, 57.2, 55.4, 55.4]]\n",
    "]\n",
    "print('Результат: ', '\\n')\n",
    "print('Средняя температура в странах: ')\n",
    "for a in countries_temperature:\n",
    "    b = sum(a[1]) / len(a[1])\n",
    "    print (a[0],':',(int(((b-32) * 5 / 9) * 100) / 100), 'C')\n",
    "    "
   ]
  },
  {
   "cell_type": "code",
   "execution_count": 45,
   "metadata": {},
   "outputs": [
    {
     "name": "stdout",
     "output_type": "stream",
     "text": [
      "Результат: \n",
      "\n",
      "Среднее количество просмотров на уникального пользователя: 23.25\n"
     ]
    }
   ],
   "source": [
    "stream = [\n",
    "'2018-01-01,user1,3',\n",
    "'2018-01-07,user1,4',\n",
    "'2018-03-29,user1,1',\n",
    "'2018-04-04,user1,13',\n",
    "'2018-01-05,user2,7',\n",
    "'2018-06-14,user3,4',\n",
    "'2018-07-02,user3,10',\n",
    "'2018-03-21,user4,19',\n",
    "'2018-03-22,user4,4',\n",
    "'2018-04-22,user4,8',\n",
    "'2018-05-03,user4,9',\n",
    "'2018-05-11,user4,11',\n",
    "]\n",
    "user_list = []\n",
    "views_list= []\n",
    "for a in stream:\n",
    "    row = a.split(',')\n",
    "    if row[-2] not in user_list:\n",
    "        user_list.append(row[-2])\n",
    "    views_list.append(int(row[-1])) \n",
    "b = sum(views_list) / len(user_list) \n",
    "print('Результат:','\\n')\n",
    "print('Среднее количество просмотров на уникального пользователя:',b)"
   ]
  },
  {
   "cell_type": "code",
   "execution_count": 65,
   "metadata": {},
   "outputs": [
    {
     "name": "stdout",
     "output_type": "stream",
     "text": [
      "Введите числа: 1 2 3 4 4\n",
      "\n",
      "Результат: \n",
      "4 "
     ]
    }
   ],
   "source": [
    "user_input = input('Введите числа: ')\n",
    "user_list = []\n",
    "el = user_input.split()\n",
    "\n",
    "for a in el:\n",
    "    if el.count(a) > 1 and a not in user_list:\n",
    "        user_list.append(a)              \n",
    "print('\\nРезультат: ')\n",
    "for i in user_list:\n",
    "    print(i, end = ' ')\n",
    "\n",
    "\n"
   ]
  }
 ],
 "metadata": {
  "kernelspec": {
   "display_name": "Python 3",
   "language": "python",
   "name": "python3"
  },
  "language_info": {
   "codemirror_mode": {
    "name": "ipython",
    "version": 3
   },
   "file_extension": ".py",
   "mimetype": "text/x-python",
   "name": "python",
   "nbconvert_exporter": "python",
   "pygments_lexer": "ipython3",
   "version": "3.8.3"
  }
 },
 "nbformat": 4,
 "nbformat_minor": 4
}
