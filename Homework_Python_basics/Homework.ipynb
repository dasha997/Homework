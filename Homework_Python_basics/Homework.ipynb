{
 "cells": [
  {
   "cell_type": "code",
   "execution_count": 13,
   "metadata": {},
   "outputs": [
    {
     "name": "stdout",
     "output_type": "stream",
     "text": [
      "Фраза 1 длиннее Фразы 2\n"
     ]
    }
   ],
   "source": [
    "phrase_1 = 'О, Боже, какой мужчина'\n",
    "phrase_2 = 'Я хочу от тебя сына'\n",
    "if len (phrase_1) > len (phrase_2): print ('Фраза 1 длиннее Фразы 2')\n",
    "elif len (phrase_1) < len (phrase_2): print ('Фраза 2 длиннее Фразы 1')\n",
    "else: print ('Фразы равны')\n"
   ]
  },
  {
   "cell_type": "code",
   "execution_count": 25,
   "metadata": {},
   "outputs": [
    {
     "name": "stdout",
     "output_type": "stream",
     "text": [
      "Введите год:2020\n",
      "Високосный\n"
     ]
    }
   ],
   "source": [
    "user_input = int(input('Введите год:'))\n",
    "if user_input % 4 != 0 or (user_input % 100 == 0 and user_input % 400 != 0):\n",
    "    print ('Обычный')\n",
    "else: print ('Високосный')"
   ]
  },
  {
   "cell_type": "code",
   "execution_count": 3,
   "metadata": {},
   "outputs": [
    {
     "name": "stdout",
     "output_type": "stream",
     "text": [
      "Введите день рождения:50\n",
      "Введите месяц рождения:Марта\n",
      "Ошибка\n"
     ]
    }
   ],
   "source": [
    "a = int(input('Введите день рождения:'))\n",
    "b = input('Введите месяц рождения:')\n",
    "if b == 'Январь' and 20<=a<=31 or b == 'Февраль' and 1<=a<19:\n",
    "    print ('Водолей')\n",
    "elif b == 'Февраль' and 19<=a<30 or b == 'Март' and 1<=a<21:\n",
    "    print ('Рыбы')\n",
    "elif b == 'Март' and 21<=a<31 or b == 'Апрель' and 1<=a<20:\n",
    "    print ('Овен')\n",
    "elif b == 'Апрель' and 20<=a<31 or b == 'Май' and 1<=a<21:\n",
    "    print ('Телец')\n",
    "elif b == 'Май' and 21<=a<32 or b == 'Июнь' and 1<=a<21:\n",
    "    print ('Близнецы')\n",
    "elif b == 'Июнь' and 21<=a<31 or b == 'Июль' and 1<=a<23:\n",
    "    print ('Рак')\n",
    "elif b == 'Июль' and 23<=a<32 or b == 'Август' and 1<=a<23:\n",
    "    print ('Лев')\n",
    "elif b == 'Август' and 23<=a<32 or b == 'Сентябрь'and 1<=a<23:\n",
    "    print ('Дева')\n",
    "elif b == 'Сентябрь' and 23<=a<31 or b == 'Октябрь' and 1<=a<23:\n",
    "    print ('Весы')\n",
    "elif b == 'Октябрь' and 23<=a<32 or b == 'Ноябрь' and 1<=a<22:\n",
    "    print ('Скорпион')\n",
    "elif b == 'Ноябрь' and 22<=a<31 or b == 'Декабрь' and 1<=a<22:\n",
    "    print ('Стрелец')\n",
    "elif b == 'Декабрь' and 22<=a<32 or b == 'Январь' and 1<=a<20:\n",
    "    print ('Козерог')\n",
    "else: print ('Ошибка')   "
   ]
  },
  {
   "cell_type": "code",
   "execution_count": null,
   "metadata": {},
   "outputs": [],
   "source": []
  }
 ],
 "metadata": {
  "kernelspec": {
   "display_name": "Python 3",
   "language": "python",
   "name": "python3"
  },
  "language_info": {
   "codemirror_mode": {
    "name": "ipython",
    "version": 3
   },
   "file_extension": ".py",
   "mimetype": "text/x-python",
   "name": "python",
   "nbconvert_exporter": "python",
   "pygments_lexer": "ipython3",
   "version": "3.8.3"
  }
 },
 "nbformat": 4,
 "nbformat_minor": 4
}
