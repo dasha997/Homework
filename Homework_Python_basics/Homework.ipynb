{
 "cells": [
  {
   "cell_type": "code",
   "execution_count": 13,
   "metadata": {},
   "outputs": [
    {
     "name": "stdout",
     "output_type": "stream",
     "text": [
      "Фраза 1 длиннее Фразы 2\n"
     ]
    }
   ],
   "source": [
    "phrase_1 = 'О, Боже, какой мужчина'\n",
    "phrase_2 = 'Я хочу от тебя сына'\n",
    "if len (phrase_1) > len (phrase_2): print ('Фраза 1 длиннее Фразы 2')\n",
    "elif len (phrase_1) < len (phrase_2): print ('Фраза 2 длиннее Фразы 1')\n",
    "else: print ('Фразы равны')\n"
   ]
  },
  {
   "cell_type": "code",
   "execution_count": 25,
   "metadata": {},
   "outputs": [
    {
     "name": "stdout",
     "output_type": "stream",
     "text": [
      "Введите год:2020\n",
      "Високосный\n"
     ]
    }
   ],
   "source": [
    "user_input = int(input('Введите год:'))\n",
    "if user_input % 4 != 0 or (user_input % 100 == 0 and user_input % 400 != 0):\n",
    "    print ('Обычный')\n",
    "else: print ('Високосный')"
   ]
  },
  {
   "cell_type": "code",
   "execution_count": 3,
   "metadata": {},
   "outputs": [
    {
     "name": "stdout",
     "output_type": "stream",
     "text": [
      "Введите день рождения:50\n",
      "Введите месяц рождения:Марта\n",
      "Ошибка\n"
     ]
    }
   ],
   "source": [
    "a = int(input('Введите день рождения:'))\n",
    "b = input('Введите месяц рождения:')\n",
    "if b == 'Январь' and 20<=a<=31 or b == 'Февраль' and 1<=a<19:\n",
    "    print ('Водолей')\n",
    "elif b == 'Февраль' and 19<=a<30 or b == 'Март' and 1<=a<21:\n",
    "    print ('Рыбы')\n",
    "elif b == 'Март' and 21<=a<31 or b == 'Апрель' and 1<=a<20:\n",
    "    print ('Овен')\n",
    "elif b == 'Апрель' and 20<=a<31 or b == 'Май' and 1<=a<21:\n",
    "    print ('Телец')\n",
    "elif b == 'Май' and 21<=a<32 or b == 'Июнь' and 1<=a<21:\n",
    "    print ('Близнецы')\n",
    "elif b == 'Июнь' and 21<=a<31 or b == 'Июль' and 1<=a<23:\n",
    "    print ('Рак')\n",
    "elif b == 'Июль' and 23<=a<32 or b == 'Август' and 1<=a<23:\n",
    "    print ('Лев')\n",
    "elif b == 'Август' and 23<=a<32 or b == 'Сентябрь'and 1<=a<23:\n",
    "    print ('Дева')\n",
    "elif b == 'Сентябрь' and 23<=a<31 or b == 'Октябрь' and 1<=a<23:\n",
    "    print ('Весы')\n",
    "elif b == 'Октябрь' and 23<=a<32 or b == 'Ноябрь' and 1<=a<22:\n",
    "    print ('Скорпион')\n",
    "elif b == 'Ноябрь' and 22<=a<31 or b == 'Декабрь' and 1<=a<22:\n",
    "    print ('Стрелец')\n",
    "elif b == 'Декабрь' and 22<=a<32 or b == 'Январь' and 1<=a<20:\n",
    "    print ('Козерог')\n",
    "else: print ('Ошибка')   "
   ]
  },
  {
   "cell_type": "code",
   "execution_count": 6,
   "metadata": {},
   "outputs": [
    {
     "name": "stdout",
     "output_type": "stream",
     "text": [
      "Стандартная коробка №3\n"
     ]
    }
   ],
   "source": [
    "width = 100\n",
    "length = 200\n",
    "height = 12\n",
    "if width<15 and length<15 and height<15:\n",
    "    print ('Коробка №1')\n",
    "elif 15<=width<=50 or 15<=length<=50 or 15<=height<=50:\n",
    "    print ('Коробка №2')\n",
    "elif length>200:\n",
    "    print ('Коробка для лыж')\n",
    "else: print ('Стандартная коробка №3')"
   ]
  },
  {
   "cell_type": "code",
   "execution_count": 19,
   "metadata": {},
   "outputs": [
    {
     "name": "stdout",
     "output_type": "stream",
     "text": [
      "Счастливый билет\n"
     ]
    }
   ],
   "source": [
    "number = 123321\n",
    "num = number // 1000\n",
    "ber = number - num * 1000\n",
    "n = num // 100\n",
    "u = (num - n * 100) // 10\n",
    "m = (num - n* 100) % 10\n",
    "b = ber // 100\n",
    "e = (ber - b * 100) // 10\n",
    "r = (ber - b * 100) % 10\n",
    "if n + u + m == b + e + r:\n",
    "    print ('Счастливый билет')\n",
    "else: print ('Несчастливый билет')"
   ]
  },
  {
   "cell_type": "code",
   "execution_count": 33,
   "metadata": {},
   "outputs": [
    {
     "name": "stdout",
     "output_type": "stream",
     "text": [
      "Введите тип фигуры:треугольник\n",
      "Введите длину стороны А:1\n",
      "Введите длину стороны B:1\n",
      "Введите длину стороны С:1\n",
      "Площадь треугольника равна:\n",
      "0.43\n"
     ]
    }
   ],
   "source": [
    "user_input = input('Введите тип фигуры:')\n",
    "if user_input == 'Круг' or user_input == 'круг':\n",
    "    a = int(input('Введите радиус круга:')) \n",
    "    square1 = (a**2)*3.141 \n",
    "    print('Площадь круга равна:') \n",
    "    print(square1)\n",
    "elif user_input == 'Треугольник' or user_input == 'треугольник':\n",
    "    a = int(input('Введите длину стороны А:'))\n",
    "    b = int(input('Введите длину стороны B:'))\n",
    "    c = int(input('Введите длину стороны С:'))\n",
    "    p = (a+b+c) / 2\n",
    "    square2 = (p * (p - a) * (p - b) * (p - c)) ** 0.5\n",
    "    square2 = (int(square2 * 100) / 100) \n",
    "    print('Площадь треугольника равна:')\n",
    "    print(square2)\n",
    "elif user_input == 'Прямоугольник' or user_input == 'прямоугольник':\n",
    "    a = int(input('Введите длину прямоугольника:'))\n",
    "    b = int(input('Введите ширину прямоугольника:'))\n",
    "    square3 = a * b\n",
    "    print('Площадь прямоугольника равна:')\n",
    "    print(square3)\n",
    "else: print('Ошибка') "
   ]
  }
 ],
 "metadata": {
  "kernelspec": {
   "display_name": "Python 3",
   "language": "python",
   "name": "python3"
  },
  "language_info": {
   "codemirror_mode": {
    "name": "ipython",
    "version": 3
   },
   "file_extension": ".py",
   "mimetype": "text/x-python",
   "name": "python",
   "nbconvert_exporter": "python",
   "pygments_lexer": "ipython3",
   "version": "3.8.3"
  }
 },
 "nbformat": 4,
 "nbformat_minor": 4
}
