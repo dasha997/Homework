{
 "cells": [
  {
   "cell_type": "code",
   "execution_count": 18,
   "metadata": {},
   "outputs": [
    {
     "name": "stdout",
     "output_type": "stream",
     "text": [
      "СДР (специальные права заимствования)\n"
     ]
    }
   ],
   "source": [
    "import requests \n",
    "\n",
    "def max_rate():\n",
    "    a = requests.get('https://www.cbr-xml-daily.ru/daily_json.js')\n",
    "    max_value = {'Value':0}\n",
    "    for v in a.json()['Valute'].values():\n",
    "        if v['Value'] > max_value['Value']:\n",
    "            max_value = v\n",
    "            \n",
    "    return max_value['Name']\n",
    "\n",
    "print(max_rate())     "
   ]
  }
 ],
 "metadata": {
  "kernelspec": {
   "display_name": "Python 3",
   "language": "python",
   "name": "python3"
  },
  "language_info": {
   "codemirror_mode": {
    "name": "ipython",
    "version": 3
   },
   "file_extension": ".py",
   "mimetype": "text/x-python",
   "name": "python",
   "nbconvert_exporter": "python",
   "pygments_lexer": "ipython3",
   "version": "3.8.3"
  }
 },
 "nbformat": 4,
 "nbformat_minor": 4
}
