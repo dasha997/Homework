{
 "cells": [
  {
   "cell_type": "code",
   "execution_count": null,
   "metadata": {
    "collapsed": true
   },
   "outputs": [],
   "source": [
    "# ваша отправная точка — эта страница: https://www.hse.ru/org/persons/?ltr=%D0%90;udept=22726\n",
    "# это список преподавателей и сотрудников НИУ ВШЭ, чьи фамилии начинаются на букву А\n",
    "# вам нужно сначала собрать с каждого из них имя, кем работает и где, контакты (телефон, имейл), а также ссылку на страничку\n",
    "# вторым туром вы проходитесь по каждой ссылке на преподавателя и достаете строчку, в которой говорится, в каком году человек начал работать в НИУ ВШЭ\n",
    "\n",
    "\n",
    "#на примере первого человека — Абакумова Ани Васпуровна\n",
    "# после первогой части работы у вас должно быть собрано [Абакумова Ани Васпуровна, Тьютор, \tШкола иностранных языков, +7 (915) 012-10-89, aabakumova@hse.ru, https://www.hse.ru/org/persons/224839542]\n",
    "# а после второго к этому списку добавляется \"Начала работать в НИУ ВШЭ в 2018 году.\"\n",
    "\n",
    "# то есть в итоге у вас на каждого человека получится такая строчка \n",
    "# [Абакумова Ани Васпуровна, Тьютор, Школа иностранных языков, +7 (915) 012-10-89, aabakumova@hse.ru, https://www.hse.ru/org/persons/224839542, \"Начала работать в НИУ ВШЭ в 2018 году.\"]\n",
    "\n",
    "#сдать вам нужно будет табличку в csv и тетрадку с кодом, запустив который, я получу это табличку\n"
   ]
  },
  {
   "cell_type": "code",
   "execution_count": 2,
   "metadata": {
    "collapsed": true
   },
   "outputs": [],
   "source": [
    "#импортируйте библиотеки\n",
    "\n",
    "import requests #чтобы получать код страница сайта\n",
    "from bs4 import BeautifulSoup #чтобы \"ходить\" по тэгам,доставать нужную нам информацию\n",
    "import pandas as pd #для работы с таблицами и файлами\n",
    "from time import sleep"
   ]
  },
  {
   "cell_type": "code",
   "execution_count": null,
   "metadata": {},
   "outputs": [],
   "source": [
    "# и пишите ваш код здесь"
   ]
  },
  {
   "cell_type": "code",
   "execution_count": null,
   "metadata": {},
   "outputs": [],
   "source": []
  },
  {
   "cell_type": "code",
   "execution_count": null,
   "metadata": {
    "collapsed": true
   },
   "outputs": [],
   "source": []
  }
 ],
 "metadata": {
  "anaconda-cloud": {},
  "kernelspec": {
   "display_name": "Python 3",
   "language": "python",
   "name": "python3"
  },
  "language_info": {
   "codemirror_mode": {
    "name": "ipython",
    "version": 3
   },
   "file_extension": ".py",
   "mimetype": "text/x-python",
   "name": "python",
   "nbconvert_exporter": "python",
   "pygments_lexer": "ipython3",
   "version": "3.8.3"
  }
 },
 "nbformat": 4,
 "nbformat_minor": 1
}
