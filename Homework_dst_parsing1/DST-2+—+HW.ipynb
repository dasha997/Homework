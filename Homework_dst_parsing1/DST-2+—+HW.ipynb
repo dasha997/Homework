{
 "cells": [
  {
   "cell_type": "code",
   "execution_count": null,
   "metadata": {
    "collapsed": true
   },
   "outputs": [],
   "source": [
    "# ваша отправная точка — эта страница: https://www.hse.ru/org/persons/?ltr=%D0%90;udept=22726\n",
    "# это список преподавателей и сотрудников НИУ ВШЭ, чьи фамилии начинаются на букву А\n",
    "# вам нужно сначала собрать с каждого из них имя, кем работает и где, контакты (телефон, имейл), а также ссылку на страничку\n",
    "# вторым туром вы проходитесь по каждой ссылке на преподавателя и достаете строчку, в которой говорится, в каком году человек начал работать в НИУ ВШЭ\n",
    "\n",
    "\n",
    "#на примере первого человека — Абакумова Ани Васпуровна\n",
    "# после первогой части работы у вас должно быть собрано [Абакумова Ани Васпуровна, Тьютор, \tШкола иностранных языков, +7 (915) 012-10-89, aabakumova@hse.ru, https://www.hse.ru/org/persons/224839542]\n",
    "# а после второго к этому списку добавляется \"Начала работать в НИУ ВШЭ в 2018 году.\"\n",
    "\n",
    "# то есть в итоге у вас на каждого человека получится такая строчка \n",
    "# [Абакумова Ани Васпуровна, Тьютор, Школа иностранных языков, +7 (915) 012-10-89, aabakumova@hse.ru, https://www.hse.ru/org/persons/224839542, \"Начала работать в НИУ ВШЭ в 2018 году.\"]\n",
    "\n",
    "#сдать вам нужно будет табличку в csv и тетрадку с кодом, запустив который, я получу это табличку\n"
   ]
  },
  {
   "cell_type": "code",
   "execution_count": 1,
   "metadata": {},
   "outputs": [],
   "source": [
    "#импортируйте библиотеки\n",
    "\n",
    "import requests #чтобы получать код страница сайта\n",
    "from bs4 import BeautifulSoup #чтобы \"ходить\" по тэгам,доставать нужную нам информацию\n",
    "from bs4.element import NavigableString\n",
    "import pandas as pd #для работы с таблицами и файлами\n",
    "from time import sleep\n",
    "import json"
   ]
  },
  {
   "cell_type": "code",
   "execution_count": 11,
   "metadata": {},
   "outputs": [],
   "source": [
    "data = []\n",
    "\n",
    "url = 'https://www.hse.ru/org/persons/?ltr=%D0%90;udept=22726'\n",
    "r = requests.get(url) #делаем запрос к сайту\n",
    "sleep(0.5)\n",
    "soup = BeautifulSoup(r.text, 'lxml', from_encoding='utf-8')\n",
    "persons = soup.findAll('div', class_='post__content_person')\n",
    "for p in persons:\n",
    "    anchor = p.find('div', class_='content__inner_foot1').find('a')\n",
    "    name = anchor.text.strip()\n",
    "    link = 'https://www.hse.ru/'+anchor.get('href')\n",
    "    c = p.find('p', class_='with-indent7').find('span').contents\n",
    "    profession = c[0].strip()\n",
    "    \n",
    "    department = ''\n",
    "    for element in c[1:]:\n",
    "        if type(element) is NavigableString:\n",
    "            department = department+element.strip()\n",
    "        else: \n",
    "            department = department+element.text.strip()\n",
    "            \n",
    "    phone = ''\n",
    "    try:\n",
    "        phone = p.find('div', class_='l-extra').find('span').text\n",
    "    except:\n",
    "        pass\n",
    "    \n",
    "    emails = []\n",
    "    try:\n",
    "        emails = p.find('div', class_='l-extra').findAll('a', class_='link')\n",
    "    except:\n",
    "        pass\n",
    "    \n",
    "    many_emails = ''\n",
    "    for email in emails:\n",
    "        symbols = json.loads(email.get('data-at'))\n",
    "        many_emails = many_emails + ''.join(symbols).replace('-at-', \"@\") + ','\n",
    "       \n",
    "    data.append([name, profession, department.replace(\"\\t\",'').replace(\"\\n\",''), phone, many_emails[:-1], link])\n",
    "            \n",
    "for person in data:\n",
    "    r = requests.get(person[-1]) \n",
    "    soup = BeautifulSoup(r.text, 'lxml', from_encoding='utf-8')\n",
    "    \n",
    "    person[-1] = soup.find('ul', class_='person-employment-addition').find('li').text\n",
    "    \n",
    "    \n",
    "import csv \n",
    "\n",
    "with open('Tutors_list.csv', 'w') as csv_file:\n",
    "    writer = csv.writer(csv_file, delimiter=';')\n",
    "\n",
    "    for row in data:\n",
    "        try:\n",
    "            writer.writerow(row)\n",
    "        except:\n",
    "            pass\n",
    "        \n",
    "\n",
    "\n",
    "\n",
    "\n",
    "    \n",
    "\n",
    "    \n",
    "\n",
    "    "
   ]
  },
  {
   "cell_type": "code",
   "execution_count": null,
   "metadata": {},
   "outputs": [],
   "source": []
  },
  {
   "cell_type": "code",
   "execution_count": null,
   "metadata": {
    "collapsed": true
   },
   "outputs": [],
   "source": []
  }
 ],
 "metadata": {
  "anaconda-cloud": {},
  "kernelspec": {
   "display_name": "Python 3",
   "language": "python",
   "name": "python3"
  },
  "language_info": {
   "codemirror_mode": {
    "name": "ipython",
    "version": 3
   },
   "file_extension": ".py",
   "mimetype": "text/x-python",
   "name": "python",
   "nbconvert_exporter": "python",
   "pygments_lexer": "ipython3",
   "version": "3.8.3"
  }
 },
 "nbformat": 4,
 "nbformat_minor": 1
}
