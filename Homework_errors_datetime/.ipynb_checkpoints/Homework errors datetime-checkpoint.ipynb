{
 "cells": [
  {
   "cell_type": "code",
   "execution_count": 8,
   "metadata": {},
   "outputs": [
    {
     "name": "stdout",
     "output_type": "stream",
     "text": [
      "2002-10-02 00:00:00\n",
      "2013-10-11 00:00:00\n",
      "1977-08-18 00:00:00\n"
     ]
    }
   ],
   "source": [
    "from datetime import datetime as dt\n",
    "The_Moscow_Times = dt.strptime('Wednesday, October 2, 2002','%A, %B %d, %Y')\n",
    "print(The_Moscow_Times)\n",
    "\n",
    "The_Guardian = dt.strptime('Friday, 11.10.13','%A, %d.%m.%y')\n",
    "print(The_Guardian)                           \n",
    "\n",
    "Daily_News = dt.strptime('Thursday, 18 August 1977','%A, %d %B %Y')\n",
    "print(Daily_News)"
   ]
  },
  {
   "cell_type": "code",
   "execution_count": 17,
   "metadata": {},
   "outputs": [
    {
     "name": "stdout",
     "output_type": "stream",
     "text": [
      "Некорректное значение даты\n",
      "Некорректное значение даты\n"
     ]
    }
   ],
   "source": [
    "def date_check(date):\n",
    "    try:\n",
    "        check = dt.strptime(date, '%Y-%m-%d')\n",
    "    except:\n",
    "        print('Некорректное значение даты')\n",
    "        \n",
    "stream = ['2018-04-02', '2018-02-29', '2018-19-02']\n",
    "for date in stream:\n",
    "    date_check(date)"
   ]
  },
  {
   "cell_type": "code",
   "execution_count": 23,
   "metadata": {},
   "outputs": [
    {
     "name": "stdout",
     "output_type": "stream",
     "text": [
      "Введите начало периода: 2021-10-20\n",
      "Введите конец периода: 2020-10-01\n",
      "[]\n"
     ]
    }
   ],
   "source": [
    "from datetime import timedelta\n",
    "from datetime import datetime as dt\n",
    "\n",
    "def date_range():\n",
    "    start_date = input('Введите начало периода: ')\n",
    "    end_date = input('Введите конец периода: ')   \n",
    "    new_list = []\n",
    "    \n",
    "    try:\n",
    "        start_date_dt = dt.strptime(start_date, '%Y-%m-%d')\n",
    "        end_date_dt = dt.strptime(end_date, '%Y-%m-%d')    \n",
    "\n",
    "        while start_date_dt <= end_date_dt:\n",
    "            new_list.append(dt.strftime(start_date_dt,'%Y-%m-%d'))\n",
    "            start_date_dt += timedelta(days=1)     \n",
    "        return new_list\n",
    "    \n",
    "    except:\n",
    "        return new_list\n",
    "\n",
    "print(date_range())   \n",
    "\n",
    "\n"
   ]
  },
  {
   "cell_type": "code",
   "execution_count": null,
   "metadata": {},
   "outputs": [],
   "source": [
    "1.Что значит ошибка list index out of range?\n",
    "  Это значит, что функция обращается к несуществующему индексу в списке.\n",
    "    \n",
    "2.Почему при первом запуске функция работает корректно, а при втором - нет?\n",
    "  Потому что количество элементов в списке уменьшается, а переменная DEFAULT_USER_COUNT остаётся без изменений."
   ]
  }
 ],
 "metadata": {
  "kernelspec": {
   "display_name": "Python 3",
   "language": "python",
   "name": "python3"
  },
  "language_info": {
   "codemirror_mode": {
    "name": "ipython",
    "version": 3
   },
   "file_extension": ".py",
   "mimetype": "text/x-python",
   "name": "python",
   "nbconvert_exporter": "python",
   "pygments_lexer": "ipython3",
   "version": "3.8.3"
  }
 },
 "nbformat": 4,
 "nbformat_minor": 4
}
