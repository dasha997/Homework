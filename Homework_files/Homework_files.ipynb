{
 "cells": [
  {
   "cell_type": "code",
   "execution_count": 6,
   "metadata": {},
   "outputs": [],
   "source": [
    "import json\n",
    "dict_pur = {}\n",
    "with open ('purchase_log.txt',encoding = 'utf-8') as f:\n",
    "    next(f)\n",
    "    for line in f:\n",
    "        line = line.strip()\n",
    "        purchase = json.loads(line)\n",
    "        dict_pur[purchase['user_id']] = purchase['category']\n",
    "with open('visit_log.csv','r',encoding = 'utf-8') as f2:\n",
    "    with open('funnel.csv','w',encoding = 'utf-8') as f3:\n",
    "        next(f2)\n",
    "        for line in f2:\n",
    "            line = line.strip().split(',')\n",
    "            if dict_pur.get(line[0]):\n",
    "                f3.write(f'{line[0]} , {line[1]} , {dict_pur.get(line[0])} \\n')\n",
    "            \n",
    "        \n",
    "    \n",
    "        \n",
    "        \n",
    "   \n",
    "            \n",
    "    \n",
    "        \n",
    "        "
   ]
  }
 ],
 "metadata": {
  "kernelspec": {
   "display_name": "Python 3",
   "language": "python",
   "name": "python3"
  },
  "language_info": {
   "codemirror_mode": {
    "name": "ipython",
    "version": 3
   },
   "file_extension": ".py",
   "mimetype": "text/x-python",
   "name": "python",
   "nbconvert_exporter": "python",
   "pygments_lexer": "ipython3",
   "version": "3.8.3"
  }
 },
 "nbformat": 4,
 "nbformat_minor": 4
}
