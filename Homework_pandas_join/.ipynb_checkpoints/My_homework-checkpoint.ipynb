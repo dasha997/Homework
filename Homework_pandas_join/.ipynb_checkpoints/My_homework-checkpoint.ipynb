{
 "cells": [
  {
   "cell_type": "code",
   "execution_count": 23,
   "metadata": {},
   "outputs": [
    {
     "name": "stdout",
     "output_type": "stream",
     "text": [
      "39331748.56653992\n"
     ]
    }
   ],
   "source": [
    "\n",
    "import pandas as pd\n",
    "\n",
    "def calc(user_data):\n",
    "    max_timestamp = max(user_data, key=lambda d: int(d[-1]))[-1]\n",
    "    min_timestamp = min(user_data, key=lambda d: int(d[-1]))[-1]\n",
    "    return int(max_timestamp) - int(min_timestamp)\n",
    "\n",
    "previous_user = None\n",
    "user_data = []\n",
    "lifetime = 0\n",
    "users = 0\n",
    "with open ('ml-latest-small/ratings.csv') as f:\n",
    "    f.readline()\n",
    "    for line in f:\n",
    "        userId,movieId,rating,timestamp = line.strip().split(',')\n",
    "        if previous_user:\n",
    "            if userId == previous_user:\n",
    "                user_data.append([userId, movieId, rating, timestamp])\n",
    "            else:\n",
    "                #print(user_data);\n",
    "                if(len(user_data) >= 100):\n",
    "                    lifetime += calc(user_data)\n",
    "                    users += 1\n",
    "                \n",
    "                previous_user = userId\n",
    "                user_data = [[userId, movieId, rating, timestamp]]\n",
    "        else: \n",
    "            previous_user = userId\n",
    "            user_data.append([userId, movieId, rating, timestamp])\n",
    "            \n",
    "    if(len(user_data) >= 100):\n",
    "        lifetime += calc(user_data)\n",
    "        users += 1\n",
    "            \n",
    "print(lifetime / users)\n"
   ]
  }
 ],
 "metadata": {
  "kernelspec": {
   "display_name": "Python 3",
   "language": "python",
   "name": "python3"
  },
  "language_info": {
   "codemirror_mode": {
    "name": "ipython",
    "version": 3
   },
   "file_extension": ".py",
   "mimetype": "text/x-python",
   "name": "python",
   "nbconvert_exporter": "python",
   "pygments_lexer": "ipython3",
   "version": "3.8.3"
  }
 },
 "nbformat": 4,
 "nbformat_minor": 4
}
