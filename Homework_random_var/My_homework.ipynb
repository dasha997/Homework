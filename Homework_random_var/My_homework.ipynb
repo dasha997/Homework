{
 "cells": [
  {
   "cell_type": "code",
   "execution_count": 2,
   "metadata": {},
   "outputs": [
    {
     "name": "stdout",
     "output_type": "stream",
     "text": [
      "0.21 -0.11\n"
     ]
    }
   ],
   "source": [
    "import numpy as np\n",
    "\n",
    "trials = 1000    \n",
    "money = 0\n",
    "success = 0\n",
    "\n",
    "for i in range(trials):\n",
    "    money -=1\n",
    "    random_score = np.random.randint(0, 1000)\n",
    "    win = 0\n",
    "    if random_score  == 777:\n",
    "        win = 200\n",
    "    elif random_score == 999:\n",
    "        win = 100\n",
    "    elif random_score == 555:\n",
    "        win = 50\n",
    "    elif random_score == 333:\n",
    "        win = 15\n",
    "    elif random_score == 111:\n",
    "        win = 10\n",
    "    elif random_score % 100 == 77:\n",
    "        win = 5\n",
    "    elif random_score % 10 ==7:\n",
    "        win = 3\n",
    "    elif random_score % 100 == 0:\n",
    "        win = 2\n",
    "    elif random_score % 10 == 0:\n",
    "        win = 1\n",
    "    if win>0:\n",
    "        success +=1\n",
    "    money += win\n",
    "    \n",
    "\n",
    "p_monte_carlo = success / trials  \n",
    "mean_win = money / trials\n",
    "print(p_monte_carlo, mean_win)\n",
    "        "
   ]
  }
 ],
 "metadata": {
  "kernelspec": {
   "display_name": "Python 3",
   "language": "python",
   "name": "python3"
  },
  "language_info": {
   "codemirror_mode": {
    "name": "ipython",
    "version": 3
   },
   "file_extension": ".py",
   "mimetype": "text/x-python",
   "name": "python",
   "nbconvert_exporter": "python",
   "pygments_lexer": "ipython3",
   "version": "3.8.3"
  }
 },
 "nbformat": 4,
 "nbformat_minor": 4
}
