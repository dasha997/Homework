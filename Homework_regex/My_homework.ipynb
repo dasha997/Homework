{
 "cells": [
  {
   "cell_type": "code",
   "execution_count": 2,
   "metadata": {},
   "outputs": [
    {
     "name": "stdout",
     "output_type": "stream",
     "text": [
      "Результат: Номер A222BC96 валиден. Регион: 96\n"
     ]
    }
   ],
   "source": [
    "import re\n",
    "\n",
    "a = 'A222BC96'\n",
    "\n",
    "def number(a):\n",
    "    number_pattern = r'^[ABEKMHOPCTYX]\\d\\d\\d[ABEKMHOPCTYX]{2}\\d{2,3}$'\n",
    "    x = re.fullmatch(number_pattern, a)\n",
    "    b = re.findall(r'\\d{2,3}$', a)\n",
    "    return x , b\n",
    "\n",
    "x , b = number(a)\n",
    "if x:    \n",
    "    print (f'Результат: Номер {a} валиден. Регион: {b[0]}')\n",
    "else: print ('Номер не валиден')\n"
   ]
  },
  {
   "cell_type": "code",
   "execution_count": 27,
   "metadata": {},
   "outputs": [
    {
     "name": "stdout",
     "output_type": "stream",
     "text": [
      "Напишите функцию, которая будет удалять все последовательные повторы слов из заданной строки при помощи регулярных выражений.\n"
     ]
    }
   ],
   "source": [
    "a = 'Напишите функцию функцию, которая будет будет будет будет удалять все все все все последовательные повторы слов из из из из заданной строки строки при помощи регулярных выражений.'\n",
    "\n",
    "def del_rep(a):\n",
    "    return re.sub(r'([^\\s]+)( \\1)+', r'\\1', a)\n",
    "    \n",
    "print(del_rep(a))\n",
    "    \n"
   ]
  },
  {
   "cell_type": "code",
   "execution_count": 41,
   "metadata": {},
   "outputs": [
    {
     "name": "stdout",
     "output_type": "stream",
     "text": [
      "ИТ\n"
     ]
    }
   ],
   "source": [
    "a = 'Информационные технологии'\n",
    "\n",
    "def acronim(a):\n",
    "    return re.sub(r'(\\w)\\w+\\s*',r'\\1', a).upper()\n",
    "print(acronim(a))\n"
   ]
  },
  {
   "cell_type": "code",
   "execution_count": 13,
   "metadata": {},
   "outputs": [
    {
     "name": "stdout",
     "output_type": "stream",
     "text": [
      "gmail.com:2\n",
      "test.in:1\n",
      "ya.ru:2\n",
      "mail.ru:1\n"
     ]
    }
   ],
   "source": [
    "emails = ['test@gmail.com', 'xyz@test.in', 'test@ya.ru', 'xyz@mail.ru', 'xyz@ya.ru', 'xyz@gmail.com']\n",
    "\n",
    "def mail_count(emails):\n",
    "    email_pattern = r'\\w+\\@(\\w+\\.\\w+)'\n",
    "    emails_new = {}\n",
    "    domain = ''\n",
    "    for x in emails:\n",
    "        domain = re.search(email_pattern, x).group(1)\n",
    "        if domain in emails_new:\n",
    "            emails_new[domain] += 1\n",
    "        else:\n",
    "            emails_new[domain] = 1\n",
    "            \n",
    "    return emails_new\n",
    "\n",
    "for k, v in mail_count(emails).items():\n",
    "    print (f'{k}:{v}')\n",
    "\n"
   ]
  }
 ],
 "metadata": {
  "kernelspec": {
   "display_name": "Python 3",
   "language": "python",
   "name": "python3"
  },
  "language_info": {
   "codemirror_mode": {
    "name": "ipython",
    "version": 3
   },
   "file_extension": ".py",
   "mimetype": "text/x-python",
   "name": "python",
   "nbconvert_exporter": "python",
   "pygments_lexer": "ipython3",
   "version": "3.8.3"
  }
 },
 "nbformat": 4,
 "nbformat_minor": 4
}
